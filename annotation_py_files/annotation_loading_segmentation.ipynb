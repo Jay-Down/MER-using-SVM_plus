{
 "cells": [
  {
   "cell_type": "code",
   "execution_count": 1,
   "metadata": {},
   "outputs": [],
   "source": [
    "import numpy as np\n",
    "import pandas as pd\n",
    "import re, os, sys\n",
    "import matplotlib.pyplot as plt"
   ]
  },
  {
   "cell_type": "markdown",
   "metadata": {},
   "source": [
    "# 1.0 Data Load"
   ]
  },
  {
   "cell_type": "code",
   "execution_count": 2,
   "metadata": {},
   "outputs": [],
   "source": [
    "# path = '/home/k1896084/Documents/Semester 2/Thesis/PMEmo/PMEmo/Annotations/Arousal/'\n",
    "path = '/Volumes/Seagate Expansion Drive/PMEmo dataset/PMEmo/PMEmo/Annotations/Arousal/'\n",
    "\n",
    "filenames = os.listdir(path)"
   ]
  },
  {
   "cell_type": "code",
   "execution_count": 3,
   "metadata": {},
   "outputs": [],
   "source": [
    "def load_annotations(filenames):\n",
    "    \"\"\"load indivudual annotation csv files into DataFrame\"\"\"\n",
    "    annotations = []\n",
    "\n",
    "    for fid in filenames:\n",
    "            annotation = np.loadtxt(open(path+fid, 'r'), delimiter=',', skiprows=1)\n",
    "            entry = [fid, annotation[:, 1], annotation[:, 2:]]\n",
    "            annotations.append(entry)\n",
    "\n",
    "    return pd.DataFrame(annotations, columns=['File_ID', 'static', 'dynamic'])"
   ]
  },
  {
   "cell_type": "code",
   "execution_count": 4,
   "metadata": {},
   "outputs": [],
   "source": [
    "# load Arousal annotations\n",
    "\n",
    "A_annotations = load_annotations(filenames)"
   ]
  },
  {
   "cell_type": "code",
   "execution_count": 5,
   "metadata": {},
   "outputs": [],
   "source": [
    "# path = '/home/k1896084/Documents/Semester 2/Thesis/PMEmo/PMEmo/Annotations/Valence/'\n",
    "path = '/Volumes/Seagate Expansion Drive/PMEmo dataset/PMEmo/PMEmo/Annotations/Valence/'\n",
    "\n",
    "filenames = os.listdir(path)"
   ]
  },
  {
   "cell_type": "code",
   "execution_count": 6,
   "metadata": {},
   "outputs": [],
   "source": [
    "# load Valence annotations\n",
    "\n",
    "V_annotations = load_annotations(filenames)"
   ]
  },
  {
   "cell_type": "markdown",
   "metadata": {},
   "source": [
    "## 1.1 Exploratory Analysis"
   ]
  },
  {
   "cell_type": "code",
   "execution_count": 7,
   "metadata": {},
   "outputs": [],
   "source": [
    "def descriptive_stats(segments):\n",
    "    \"\"\"\n",
    "    calculate descriptive statistics for annotation dataframes on row-wise and column-wise basis, \n",
    "    as in Fig. 7 of report\n",
    "    \"\"\"\n",
    "    \n",
    "    col_stats = []\n",
    "    row_stats = []\n",
    "    derived_stats = []\n",
    "\n",
    "    for fid in segments['File_ID']:\n",
    "        annotations = segments[segments['File_ID']==fid]['dynamic'].iloc[0]\n",
    "        \n",
    "        ### dynamic stats by column ### \n",
    "\n",
    "        # dynamic column means (mean emotion at time=t)\n",
    "        col_mu = annotations.mean(axis=0)\n",
    "        \n",
    "        # dynamic column variances (level of disagreement in an annotation)\n",
    "        col_vars = annotations.var(axis=0)\n",
    "        \n",
    "        col_entry = [fid, col_mu, col_vars]\n",
    "        \n",
    "        ### dynamic stats by row ### \n",
    "\n",
    "        # dynamic row means (overall mean emotion in a clip, per respondent. Ought to be comparable with static annotation values.)\n",
    "        row_mu = annotations.mean(axis=1)\n",
    "        \n",
    "        # dynamic row variances (amount of variability in emotions portrayed throughout clip, per respondent)\n",
    "        row_vars = annotations.var(axis=1)\n",
    "        \n",
    "        row_entry = [fid, row_mu, row_vars]\n",
    "        \n",
    "        ### derived stats of dynamic annotations ### \n",
    "        \n",
    "        # mean of dynamic column means (average arousal/valence in a clip (at any one time?))\n",
    "        mean_col_mu = col_mu.mean()\n",
    "        \n",
    "        # variance of dynamic column means (variability of A/V from the mean of col means at any point in time)\n",
    "        var_col_mu = col_mu.var()\n",
    "        \n",
    "        # mean of dynamic column variances (i.e. average disagreement in a single time step annotation;\n",
    "        # amount of noise around 'true' signal? average difficulty in annotation per time step?)\n",
    "        mean_col_vars = col_vars.mean()\n",
    "        \n",
    "        # variance of dynamic column variances (variability in ambiguity of emotion in a track)\n",
    "        var_col_vars = col_vars.var()\n",
    "        \n",
    "        # mean of dynamic row means (average overall emotion in a clip, comparable to mean of static annotations)\n",
    "        mean_row_mu = row_mu.mean()\n",
    "        \n",
    "        # variance of row means (level of disagreement between respondents in overall emotion of clip)\n",
    "        var_row_mu = row_mu.var()\n",
    "        \n",
    "        # mean of row variances (average level of emotion variation over course of a clip) \n",
    "        mean_row_vars = row_vars.mean()\n",
    "        \n",
    "        # variance of row variances (level of disagreement between respondents over variability of emotion in clip)\n",
    "        var_row_vars = row_vars.var()\n",
    "        \n",
    "        derived_entry = [fid, mean_col_mu, var_col_mu, mean_col_vars, var_col_vars, mean_row_mu, var_row_mu, mean_row_vars, var_row_vars]\n",
    "        \n",
    "        col_stats.append(col_entry)\n",
    "        \n",
    "        row_stats.append(row_entry)\n",
    "    \n",
    "        derived_stats.append(derived_entry)        \n",
    "    \n",
    "    return pd.DataFrame(col_stats, columns=['File_ID', 'col_means', 'col_vars']), pd.DataFrame(row_stats, columns=['File_ID', 'row_means', 'row_vars']), pd.DataFrame(derived_stats, columns=['File_ID', 'mean_col_mu', 'var_col_mu', 'mean_col_vars', 'var_col_vars', 'mean_row_mu', 'var_row_mu', 'mean_row_vars', 'var_row_vars'])\n",
    "    \n",
    "        "
   ]
  },
  {
   "cell_type": "code",
   "execution_count": 8,
   "metadata": {},
   "outputs": [],
   "source": [
    "# arousal descriptive stats\n",
    "\n",
    "A_column_stats, A_row_stats, A_derived_stats = descriptive_stats(A_annotations)"
   ]
  },
  {
   "cell_type": "code",
   "execution_count": 9,
   "metadata": {},
   "outputs": [],
   "source": [
    "# valence descriptive stats\n",
    "\n",
    "V_column_stats, V_row_stats, V_derived_stats = descriptive_stats(V_annotations)"
   ]
  },
  {
   "cell_type": "markdown",
   "metadata": {},
   "source": [
    "Average length of clips"
   ]
  },
  {
   "cell_type": "code",
   "execution_count": 10,
   "metadata": {},
   "outputs": [
    {
     "data": {
      "text/plain": [
       "47.50456323337679"
      ]
     },
     "execution_count": 10,
     "metadata": {},
     "output_type": "execute_result"
    }
   ],
   "source": [
    "# Average number of samples in dynamic annotations = 47.5\n",
    "\n",
    "# Arousal\n",
    "cusum = 0\n",
    "\n",
    "for i in A_column_stats['col_means']:\n",
    "    cusum += len(i)\n",
    "    \n",
    "cusum/len(A_column_stats)"
   ]
  },
  {
   "cell_type": "code",
   "execution_count": 11,
   "metadata": {},
   "outputs": [
    {
     "data": {
      "text/plain": [
       "47.52542372881356"
      ]
     },
     "execution_count": 11,
     "metadata": {},
     "output_type": "execute_result"
    }
   ],
   "source": [
    "# Valence: 0.02 difference due to 0.5s (1 timestep value) length discrepancies in the following 20/767 files:\n",
    "# [1, 2, 5, 16, 18, 19, 20, 23, 27, 32, 33, 34, 41, 42, 43, 55, 66, 107, 130, 157]\n",
    "\n",
    "cusum = 0\n",
    "\n",
    "for i in V_column_stats['col_means']:\n",
    "    cusum += len(i)\n",
    "    \n",
    "cusum/len(V_column_stats)"
   ]
  },
  {
   "cell_type": "markdown",
   "metadata": {},
   "source": [
    "Distribution of annotations"
   ]
  },
  {
   "cell_type": "code",
   "execution_count": 12,
   "metadata": {},
   "outputs": [
    {
     "data": {
      "image/png": "[encoded data removed]",
      "text/plain": [
       "<Figure size 1080x288 with 2 Axes>"
      ]
     },
     "metadata": {
      "needs_background": "light"
     },
     "output_type": "display_data"
    }
   ],
   "source": [
    "# left-skewed distribution => median and IQR rather than mean and s.d.\n",
    "\n",
    "fig, ax = plt.subplots(1, 2, figsize=(15, 4))\n",
    "ax[0].hist((V_derived_stats['mean_row_mu']))\n",
    "ax[0].set_title('Mean Valence Annotation Distribution')\n",
    "ax[1].hist((A_derived_stats['mean_row_mu']))\n",
    "ax[1].set_title('Mean Arousal Annotation Distribution')\n",
    "plt.show()\n"
   ]
  },
  {
   "cell_type": "markdown",
   "metadata": {},
   "source": [
    "Plotting music emotion variation over time"
   ]
  },
  {
   "cell_type": "code",
   "execution_count": 13,
   "metadata": {},
   "outputs": [],
   "source": [
    "def plot_signals(rand_ints):\n",
    "    \"\"\"plot average signals of four clips based on list of indices, as in Fig. 6 of report\"\"\"\n",
    "    fig, ax = plt.subplots(2, 2, figsize=(12, 8))\n",
    "    ax[0,0].plot(A_column_stats['col_means'].iloc[rand_ints[0]])\n",
    "    ax[0,0].set_title(A_column_stats.iloc[rand_ints[0]]['File_ID'])\n",
    "    \n",
    "    ax[0,1].plot(A_column_stats['col_means'].iloc[rand_ints[1]])\n",
    "    ax[0,1].set_title(A_column_stats.iloc[rand_ints[1]]['File_ID'])\n",
    "    \n",
    "    ax[1,0].plot(A_column_stats['col_means'].iloc[rand_ints[2]])\n",
    "    ax[1,0].set_title(A_column_stats.iloc[rand_ints[2]]['File_ID'])\n",
    "    \n",
    "    ax[1,1].plot(A_column_stats['col_means'].iloc[rand_ints[3]])\n",
    "    ax[1,1].set_title(A_column_stats.iloc[rand_ints[3]]['File_ID'])\n",
    "    \n",
    "    fig.text(0.5, 0.04, 'time (s)', ha='center', va='center')\n",
    "    fig.text(0.06, 0.5, 'mean dynamic arousal', ha='center', va='center', rotation='vertical')\n",
    "\n",
    "    plt.show()"
   ]
  },
  {
   "cell_type": "code",
   "execution_count": 14,
   "metadata": {},
   "outputs": [],
   "source": [
    "# randomly generate four indices \n",
    "\n",
    "rand_ints = [np.random.randint(len(A_column_stats)) for i in range(4)]"
   ]
  },
  {
   "cell_type": "code",
   "execution_count": 15,
   "metadata": {},
   "outputs": [
    {
     "data": {
      "image/png": "[encoded data removed]",
      "text/plain": [
       "<Figure size 864x576 with 4 Axes>"
      ]
     },
     "metadata": {
      "needs_background": "light"
     },
     "output_type": "display_data"
    }
   ],
   "source": [
    "# files chosen for plotting in report: [753, 312, 413, 757]\n",
    "plot_signals(rand_ints)"
   ]
  },
  {
   "cell_type": "markdown",
   "metadata": {},
   "source": [
    "Heatmap of A/V values to check if data biased"
   ]
  },
  {
   "cell_type": "code",
   "execution_count": 16,
   "metadata": {},
   "outputs": [
    {
     "data": {
      "image/png": "[encoded data removed]",
      "text/plain": [
       "<Figure size 432x288 with 2 Axes>"
      ]
     },
     "metadata": {
      "needs_background": "light"
     },
     "output_type": "display_data"
    }
   ],
   "source": [
    "x = A_derived_stats['mean_row_mu']\n",
    "y = V_derived_stats['mean_row_mu']\n",
    "\n",
    "heatmap, xedges, yedges = np.histogram2d(x, y, bins=15)\n",
    "extent = [xedges[0], xedges[-1], yedges[0], yedges[-1]]\n",
    "\n",
    "plt.clf()\n",
    "plt.imshow(heatmap.T, extent=extent, origin='lower')\n",
    "plt.colorbar()\n",
    "plt.xlabel('Arousal')\n",
    "plt.ylabel('Valence')\n",
    "plt.show()"
   ]
  },
  {
   "cell_type": "code",
   "execution_count": null,
   "metadata": {},
   "outputs": [],
   "source": []
  },
  {
   "cell_type": "markdown",
   "metadata": {},
   "source": [
    "# 2.0 Segmentation"
   ]
  },
  {
   "cell_type": "markdown",
   "metadata": {},
   "source": [
    "## 2.1 Synthetic signal and parameterisation"
   ]
  },
  {
   "cell_type": "code",
   "execution_count": 17,
   "metadata": {},
   "outputs": [],
   "source": [
    "import ruptures as rpt"
   ]
  },
  {
   "cell_type": "code",
   "execution_count": 18,
   "metadata": {},
   "outputs": [],
   "source": [
    "# using the mean of the variance per dynamic time step as a proxy for how much 'noise' is in the signal of a track's\n",
    "# annotations in order to get a sigma value for changepoint detection\n",
    "\n",
    "# average amount of variance in arousal annotation per dynamic time step = 0.09215330048169802\n",
    "ave_dyn_var = A_derived_stats['mean_col_vars'].mean()\n",
    "\n",
    "# => average s.d. = 0.303567620937573\n",
    "ave_dyn_sd = np.sqrt(ave_dyn_var)"
   ]
  },
  {
   "cell_type": "code",
   "execution_count": 19,
   "metadata": {},
   "outputs": [],
   "source": [
    "# average signal parameters for synthetic signal\n",
    "delta = np.median(A_derived_stats['mean_row_mu'])\n",
    "diff = np.diff(np.quantile(A_derived_stats['mean_row_mu'], (0.25, 0.75)))"
   ]
  },
  {
   "cell_type": "code",
   "execution_count": 20,
   "metadata": {},
   "outputs": [
    {
     "data": {
      "image/png": "[encoded data removed]",
      "text/plain": [
       "<Figure size 720x144 with 1 Axes>"
      ]
     },
     "metadata": {
      "needs_background": "light"
     },
     "output_type": "display_data"
    }
   ],
   "source": [
    "# calculate synthetic signal based on ave_num_samples=48 and s.d. as noise\n",
    "\n",
    "n = 48\n",
    "sigma = ave_dyn_sd\n",
    "\n",
    "signal, bkps = rpt.pw_constant(n, 1, 1, noise_std=sigma, delta=((delta-diff), (delta+diff)))\n",
    "rpt.display(signal, bkps)\n",
    "plt.show()"
   ]
  },
  {
   "cell_type": "code",
   "execution_count": 21,
   "metadata": {},
   "outputs": [
    {
     "data": {
      "image/png": "[encoded data removed]",
      "text/plain": [
       "<Figure size 720x144 with 1 Axes>"
      ]
     },
     "metadata": {
      "needs_background": "light"
     },
     "output_type": "display_data"
    }
   ],
   "source": [
    "# change point detection\n",
    "\n",
    "# PELT algo\n",
    "\n",
    "pen = np.log(n)*sigma**2\n",
    "model = \"l1\"  # \"l2\", \"rbf\"\n",
    "PELT = rpt.Pelt(model=model, min_size=10).fit(signal)\n",
    "my_bkps = PELT.predict(pen=pen)\n",
    "\n",
    "# show results\n",
    "fig, (ax,) = rpt.display(signal, bkps, my_bkps)\n",
    "plt.show()"
   ]
  },
  {
   "cell_type": "code",
   "execution_count": 22,
   "metadata": {},
   "outputs": [
    {
     "name": "stdout",
     "output_type": "stream",
     "text": [
      "actual: [24, 48] \n",
      "predicted: [25, 48]\n"
     ]
    }
   ],
   "source": [
    "# actual vs. predicted changepoints\n",
    "\n",
    "print('actual: %s \\npredicted: %s'%(bkps, my_bkps))"
   ]
  },
  {
   "cell_type": "code",
   "execution_count": 23,
   "metadata": {},
   "outputs": [
    {
     "data": {
      "text/plain": [
       "0.8773637152777778"
      ]
     },
     "execution_count": 23,
     "metadata": {},
     "output_type": "execute_result"
    }
   ],
   "source": [
    "from ruptures.metrics import randindex\n",
    "\n",
    "# evaluation of signal segmentation\n",
    "n = 48\n",
    "sigma = ave_dyn_sd\n",
    "pen = np.log(n)*sigma**2\n",
    "r_i = []\n",
    "\n",
    "for i in range(1000):\n",
    "    \n",
    "    signal, bkps = rpt.pw_constant(n, 1, 1, noise_std=sigma, delta=((delta-diff), (delta+diff)))\n",
    "    model = \"l1\"  # \"l2\", \"rbf\"\n",
    "    PELT = rpt.Pelt(model=model, min_size=10).fit(signal)\n",
    "    my_bkps = PELT.predict(pen=pen)\n",
    "    r_i.append(randindex(bkps, my_bkps))\n",
    "\n",
    "    \n",
    "np.mean(r_i)"
   ]
  },
  {
   "cell_type": "markdown",
   "metadata": {},
   "source": [
    "## 2.2 Segmentation"
   ]
  },
  {
   "cell_type": "code",
   "execution_count": 24,
   "metadata": {},
   "outputs": [],
   "source": [
    "\n",
    "def breakpoints(filenames, column_stats, derived_stats, model):\n",
    "    \"\"\"predict breakpoint locations in affective signals\"\"\"\n",
    "    \n",
    "    bkps = []\n",
    "    problem_IDs = []\n",
    "    sigma = np.sqrt(derived_stats['mean_col_vars'].mean())\n",
    "\n",
    "    for fid in filenames:\n",
    "        try:\n",
    "            print('Segmenting '+fid)\n",
    "            signal = column_stats[column_stats['File_ID']==fid]['col_means'].iloc[0]\n",
    "            n = len(signal)\n",
    "            pen = np.log(n)*sigma**2\n",
    "            PELT = rpt.Pelt(model=model, min_size=10).fit(signal)\n",
    "            breaks = PELT.predict(pen=pen)\n",
    "            bkps.append([fid, breaks])\n",
    "            print(fid+' Done')\n",
    "\n",
    "        except ValueError:\n",
    "            problem_IDs.append([fid, n])\n",
    "\n",
    "    return pd.DataFrame(bkps, columns=['File_ID', 'bkps']), np.array(problem_IDs)\n",
    "        #[('File_ID', 'U25'), ('bkps', 'O')]"
   ]
  },
  {
   "cell_type": "markdown",
   "metadata": {},
   "source": [
    "#### Arousal"
   ]
  },
  {
   "cell_type": "code",
   "execution_count": 25,
   "metadata": {},
   "outputs": [],
   "source": [
    "#path = '/home/k1896084/Documents/Semester 2/Thesis/PMEmo/PMEmo/Annotations/Arousal/'\n",
    "path = '/Volumes/Seagate Expansion Drive/PMEmo dataset/PMEmo/PMEmo/Annotations/Arousal/'\n",
    "\n",
    "filenames = os.listdir(path)"
   ]
  },
  {
   "cell_type": "code",
   "execution_count": null,
   "metadata": {},
   "outputs": [],
   "source": [
    "# arousal changepoint detection\n",
    "\n",
    "A_bkps, A_problem_IDs = breakpoints(filenames, A_column_stats, A_derived_stats, 'l1')"
   ]
  },
  {
   "cell_type": "code",
   "execution_count": 27,
   "metadata": {},
   "outputs": [],
   "source": [
    "\n",
    "def split_clips(bkps, annotations):\n",
    "    \"\"\"\n",
    "    split annotations according to index position of breakpoints; if bkpt == len(clip) don't split, \n",
    "    else split and assign to new array\n",
    "    \"\"\"\n",
    "    \n",
    "    split_clips = []\n",
    "    \n",
    "    for fid in bkps['File_ID']:\n",
    "        responses = annotations[annotations['File_ID']==fid]['dynamic'].iloc[0]\n",
    "        clip_breaks = bkps[bkps['File_ID']==fid]['bkps'].iloc[0]\n",
    "        \n",
    "        if len(clip_breaks)==1:\n",
    "            split_clips.append([fid, responses])\n",
    "            \n",
    "        else:\n",
    "            temp_clips = []\n",
    "            suffix=1\n",
    "            \n",
    "            for response in responses:\n",
    "                segments=np.split(response, clip_breaks)\n",
    "                temp_clips.append(segments)\n",
    "                \n",
    "            for i in range(len(clip_breaks)):\n",
    "                tmp = []\n",
    "                for segments in temp_clips:\n",
    "                    tmp.append(segments[i])\n",
    "                split_clips.append([str(suffix)+'_'+fid, tmp])\n",
    "                suffix+=1\n",
    "                    \n",
    "    return pd.DataFrame(split_clips, columns=['File_ID', 'Annotations'])"
   ]
  },
  {
   "cell_type": "code",
   "execution_count": 28,
   "metadata": {},
   "outputs": [],
   "source": [
    "# arousal segmentation\n",
    "\n",
    "A_splits = split_clips(A_bkps, A_annotations)"
   ]
  },
  {
   "cell_type": "code",
   "execution_count": 29,
   "metadata": {},
   "outputs": [
    {
     "data": {
      "text/plain": [
       "971"
      ]
     },
     "execution_count": 29,
     "metadata": {},
     "output_type": "execute_result"
    }
   ],
   "source": [
    "# Arousal dataset size increased from 767 to 971\n",
    "len(A_splits)"
   ]
  },
  {
   "cell_type": "code",
   "execution_count": 30,
   "metadata": {},
   "outputs": [],
   "source": [
    "# save down split segments as a dataframe for easy re-loading\n",
    "\n",
    "path = \"/Users/jay/Documents/Jay's bits/Uni/Thesis/thesis-pipeline/data/processed/Annotations/Arousal/\"\n",
    "\n",
    "A_splits.to_pickle(path+'Arousal_annotation_dataframe_segmented')\n",
    "\n"
   ]
  },
  {
   "cell_type": "code",
   "execution_count": 31,
   "metadata": {},
   "outputs": [],
   "source": [
    "#path = \"/Users/jay/Documents/Jay's bits/Uni/Thesis/thesis-pipeline/data/processed/Annotations/Arousal\"\n",
    "\n",
    "#A_splits = pd.read_pickle(path+'Arousal_dataframe_segmented')"
   ]
  },
  {
   "cell_type": "markdown",
   "metadata": {},
   "source": [
    "#### Valence"
   ]
  },
  {
   "cell_type": "code",
   "execution_count": 32,
   "metadata": {},
   "outputs": [],
   "source": [
    "#path = '/home/k1896084/Documents/Semester 2/Thesis/PMEmo/PMEmo/Annotations/Valence/'\n",
    "path = '/Volumes/Seagate Expansion Drive/PMEmo dataset/PMEmo/PMEmo/Annotations/Valence/'\n",
    "\n",
    "filenames = os.listdir(path)"
   ]
  },
  {
   "cell_type": "code",
   "execution_count": null,
   "metadata": {
    "scrolled": true
   },
   "outputs": [],
   "source": [
    "# valence changepoint detection\n",
    "\n",
    "V_bkps, V_problem_IDs = breakpoints(filenames, V_column_stats, V_derived_stats, 'l1')"
   ]
  },
  {
   "cell_type": "code",
   "execution_count": 34,
   "metadata": {},
   "outputs": [],
   "source": [
    "# valence segmentation\n",
    "\n",
    "V_splits = split_clips(V_bkps, V_annotations)"
   ]
  },
  {
   "cell_type": "code",
   "execution_count": 35,
   "metadata": {},
   "outputs": [
    {
     "data": {
      "text/plain": [
       "922"
      ]
     },
     "execution_count": 35,
     "metadata": {},
     "output_type": "execute_result"
    }
   ],
   "source": [
    "# valence dataset increased from 767 to 922\n",
    "len(V_splits)"
   ]
  },
  {
   "cell_type": "markdown",
   "metadata": {},
   "source": [
    "## 2.3 Segmentation appraisal"
   ]
  },
  {
   "cell_type": "code",
   "execution_count": 36,
   "metadata": {},
   "outputs": [],
   "source": [
    "def segmented_stats(segments):\n",
    "    \"\"\"descriptive statistics as in descriptive_stats(), calculated for segmented clips\"\"\"\n",
    "    \n",
    "    col_stats = []\n",
    "    row_stats = []\n",
    "    derived_stats = []\n",
    "\n",
    "    for fid in segments['File_ID']:\n",
    "        annotations = np.array(segments[segments['File_ID']==fid]['Annotations'].iloc[0])\n",
    "        \n",
    "        ### dynamic stats by column ### \n",
    "\n",
    "        # dynamic column means (mean emotion at time=t)\n",
    "        col_mu = annotations.mean(axis=0)\n",
    "        \n",
    "        # dynamic column variances (level of disagreement in an annotation)\n",
    "        col_vars = annotations.var(axis=0)\n",
    "        \n",
    "        col_entry = [fid, col_mu, col_vars]\n",
    "        \n",
    "        ### dynamic stats by row ### \n",
    "\n",
    "        # dynamic row means (overall mean emotion in a clip, per respondent. Ought to be comparable with static annotation values.)\n",
    "        row_mu = annotations.mean(axis=1)\n",
    "        \n",
    "        # dynamic row variances (amount of variability in emotions portrayed throughout clip, per respondent)\n",
    "        row_vars = annotations.var(axis=1)\n",
    "        \n",
    "        row_entry = [fid, row_mu, row_vars]\n",
    "        \n",
    "        ### derived stats of dynamic annotations ### \n",
    "        \n",
    "        # mean of dynamic column means (average arousal/valence in a clip (at any one time?))\n",
    "        mean_col_mu = col_mu.mean()\n",
    "        \n",
    "        # variance of dynamic column means (variability of A/V from the mean of col means at any point in time)\n",
    "        var_col_mu = col_mu.var()\n",
    "        \n",
    "        # mean of dynamic column variances (i.e. average disagreement in a single time step annotation;\n",
    "        # amount of noise around 'true' signal? average difficulty in annotation per time step?)\n",
    "        mean_col_vars = col_vars.mean()\n",
    "        \n",
    "        # variance of dynamic column variances (variability in ambiguity of emotion in a track)\n",
    "        var_col_vars = col_vars.var()\n",
    "        \n",
    "        # mean of dynamic row means (average overall emotion in a clip, comparable to mean of static annotations)\n",
    "        mean_row_mu = row_mu.mean()\n",
    "        \n",
    "        # variance of row means (level of disagreement between respondents in overall emotion of clip)\n",
    "        var_row_mu = row_mu.var()\n",
    "        \n",
    "        # mean of row variances (average level of emotion variation over course of a clip) \n",
    "        mean_row_vars = row_vars.mean()\n",
    "        \n",
    "        # variance of row variances (level of disagreement between respondents over variability of emotion in clip)\n",
    "        var_row_vars = row_vars.var()\n",
    "        \n",
    "        derived_entry = [fid, mean_col_mu, var_col_mu, mean_col_vars, var_col_vars, mean_row_mu, var_row_mu, mean_row_vars, var_row_vars]\n",
    "        \n",
    "        col_stats.append(col_entry)\n",
    "        \n",
    "        row_stats.append(row_entry)\n",
    "    \n",
    "        derived_stats.append(derived_entry)        \n",
    "    \n",
    "    return pd.DataFrame(col_stats, columns=['File_ID', 'col_means', 'col_vars']), pd.DataFrame(row_stats, columns=['File_ID', 'row_means', 'row_vars']), pd.DataFrame(derived_stats, columns=['File_ID', 'mean_col_mu', 'var_col_mu', 'mean_col_vars', 'var_col_vars', 'mean_row_mu', 'var_row_mu', 'mean_row_vars', 'var_row_vars'])\n",
    "    \n",
    "        "
   ]
  },
  {
   "cell_type": "code",
   "execution_count": 37,
   "metadata": {},
   "outputs": [],
   "source": [
    "# segmented clips descriptive stats\n",
    "\n",
    "A_seg_col_stats, A_seg_row_stats, A_seg_derived_stats = segmented_stats(A_splits)"
   ]
  },
  {
   "cell_type": "code",
   "execution_count": 38,
   "metadata": {},
   "outputs": [],
   "source": [
    "V_seg_col_stats, V_seg_row_stats, V_seg_derived_stats = segmented_stats(V_splits)"
   ]
  },
  {
   "cell_type": "markdown",
   "metadata": {},
   "source": [
    "#### Segmentation metrics for Arousal"
   ]
  },
  {
   "cell_type": "markdown",
   "metadata": {},
   "source": [
    "Average variability in row variance has decreased"
   ]
  },
  {
   "cell_type": "code",
   "execution_count": 39,
   "metadata": {},
   "outputs": [
    {
     "data": {
      "text/plain": [
       "0.00259753239366569"
      ]
     },
     "execution_count": 39,
     "metadata": {},
     "output_type": "execute_result"
    }
   ],
   "source": [
    "A_derived_stats['mean_row_vars'].mean()"
   ]
  },
  {
   "cell_type": "code",
   "execution_count": 40,
   "metadata": {},
   "outputs": [
    {
     "data": {
      "text/plain": [
       "0.0018444413300074082"
      ]
     },
     "execution_count": 40,
     "metadata": {},
     "output_type": "execute_result"
    }
   ],
   "source": [
    "A_seg_derived_stats['mean_row_vars'].mean()"
   ]
  },
  {
   "cell_type": "markdown",
   "metadata": {},
   "source": [
    "Average variability in column variance has decreased"
   ]
  },
  {
   "cell_type": "code",
   "execution_count": 41,
   "metadata": {},
   "outputs": [
    {
     "data": {
      "text/plain": [
       "0.0001049748391141084"
      ]
     },
     "execution_count": 41,
     "metadata": {},
     "output_type": "execute_result"
    }
   ],
   "source": [
    "A_derived_stats['var_col_vars'].mean()"
   ]
  },
  {
   "cell_type": "code",
   "execution_count": 42,
   "metadata": {},
   "outputs": [
    {
     "data": {
      "text/plain": [
       "7.065911275077035e-05"
      ]
     },
     "execution_count": 42,
     "metadata": {},
     "output_type": "execute_result"
    }
   ],
   "source": [
    "A_seg_derived_stats['var_col_vars'].mean()"
   ]
  },
  {
   "cell_type": "markdown",
   "metadata": {},
   "source": [
    "Mean of timestep variance not changed, indicating level of respondent disagreement not changed"
   ]
  },
  {
   "cell_type": "code",
   "execution_count": 43,
   "metadata": {},
   "outputs": [
    {
     "data": {
      "text/plain": [
       "0.09343229869535917"
      ]
     },
     "execution_count": 43,
     "metadata": {},
     "output_type": "execute_result"
    }
   ],
   "source": [
    "A_seg_derived_stats['mean_col_vars'].mean()"
   ]
  },
  {
   "cell_type": "code",
   "execution_count": 44,
   "metadata": {},
   "outputs": [
    {
     "data": {
      "text/plain": [
       "0.09215330048169802"
      ]
     },
     "execution_count": 44,
     "metadata": {},
     "output_type": "execute_result"
    }
   ],
   "source": [
    "A_derived_stats['mean_col_vars'].mean()"
   ]
  },
  {
   "cell_type": "markdown",
   "metadata": {},
   "source": [
    "Average variability in column mean has decreased"
   ]
  },
  {
   "cell_type": "code",
   "execution_count": 45,
   "metadata": {},
   "outputs": [
    {
     "data": {
      "text/plain": [
       "0.0005586362926610181"
      ]
     },
     "execution_count": 45,
     "metadata": {},
     "output_type": "execute_result"
    }
   ],
   "source": [
    "A_derived_stats['var_col_mu'].mean()"
   ]
  },
  {
   "cell_type": "code",
   "execution_count": 46,
   "metadata": {},
   "outputs": [
    {
     "data": {
      "text/plain": [
       "0.0002584059691790154"
      ]
     },
     "execution_count": 46,
     "metadata": {},
     "output_type": "execute_result"
    }
   ],
   "source": [
    "A_seg_derived_stats['var_col_mu'].mean()"
   ]
  },
  {
   "cell_type": "code",
   "execution_count": 47,
   "metadata": {},
   "outputs": [
    {
     "data": {
      "text/plain": [
       "3.634914876889768e-05"
      ]
     },
     "execution_count": 47,
     "metadata": {},
     "output_type": "execute_result"
    }
   ],
   "source": [
    "A_derived_stats['var_row_vars'].mean()"
   ]
  },
  {
   "cell_type": "code",
   "execution_count": 48,
   "metadata": {},
   "outputs": [
    {
     "data": {
      "text/plain": [
       "1.5109657741323914e-05"
      ]
     },
     "execution_count": 48,
     "metadata": {},
     "output_type": "execute_result"
    }
   ],
   "source": [
    "A_seg_derived_stats['var_row_vars'].mean()"
   ]
  },
  {
   "cell_type": "code",
   "execution_count": 49,
   "metadata": {},
   "outputs": [],
   "source": [
    "def peak_to_peak(column_stats):\n",
    "    \"\"\"average range of arousal signal in clips\"\"\"\n",
    "    \n",
    "    jump = []\n",
    "\n",
    "    for i in range(len(column_stats['col_means'])):\n",
    "        jump.append(np.ptp(column_stats['col_means'][i]))\n",
    "\n",
    "    return np.mean(jump)\n",
    "    "
   ]
  },
  {
   "cell_type": "code",
   "execution_count": 50,
   "metadata": {},
   "outputs": [
    {
     "data": {
      "text/plain": [
       "0.07065605369207063"
      ]
     },
     "execution_count": 50,
     "metadata": {},
     "output_type": "execute_result"
    }
   ],
   "source": [
    "# average size of amplitude range\n",
    "\n",
    "peak_to_peak(A_column_stats)"
   ]
  },
  {
   "cell_type": "code",
   "execution_count": 51,
   "metadata": {},
   "outputs": [
    {
     "data": {
      "text/plain": [
       "0.056604335970414754"
      ]
     },
     "execution_count": 51,
     "metadata": {},
     "output_type": "execute_result"
    }
   ],
   "source": [
    "peak_to_peak(A_seg_col_stats)"
   ]
  },
  {
   "cell_type": "markdown",
   "metadata": {},
   "source": [
    "#### Segmentation metrics for Valence"
   ]
  },
  {
   "cell_type": "markdown",
   "metadata": {},
   "source": [
    "Average variability in row variance has decreased"
   ]
  },
  {
   "cell_type": "code",
   "execution_count": 52,
   "metadata": {},
   "outputs": [
    {
     "data": {
      "text/plain": [
       "0.002028941650356102"
      ]
     },
     "execution_count": 52,
     "metadata": {},
     "output_type": "execute_result"
    }
   ],
   "source": [
    "V_derived_stats['mean_row_vars'].mean()"
   ]
  },
  {
   "cell_type": "code",
   "execution_count": 53,
   "metadata": {},
   "outputs": [
    {
     "data": {
      "text/plain": [
       "0.0015556211713689105"
      ]
     },
     "execution_count": 53,
     "metadata": {},
     "output_type": "execute_result"
    }
   ],
   "source": [
    "V_seg_derived_stats['mean_row_vars'].mean()"
   ]
  },
  {
   "cell_type": "markdown",
   "metadata": {},
   "source": [
    "Average variability in column variance has decreased"
   ]
  },
  {
   "cell_type": "code",
   "execution_count": 54,
   "metadata": {},
   "outputs": [
    {
     "data": {
      "text/plain": [
       "9.229455228944293e-05"
      ]
     },
     "execution_count": 54,
     "metadata": {},
     "output_type": "execute_result"
    }
   ],
   "source": [
    "V_derived_stats['var_col_vars'].mean()"
   ]
  },
  {
   "cell_type": "code",
   "execution_count": 55,
   "metadata": {},
   "outputs": [
    {
     "data": {
      "text/plain": [
       "7.279752434942946e-05"
      ]
     },
     "execution_count": 55,
     "metadata": {},
     "output_type": "execute_result"
    }
   ],
   "source": [
    "V_seg_derived_stats['var_col_vars'].mean()"
   ]
  },
  {
   "cell_type": "markdown",
   "metadata": {},
   "source": [
    "Mean of timestep variance not changed, indicating level of respondent disagreement not changed"
   ]
  },
  {
   "cell_type": "code",
   "execution_count": 56,
   "metadata": {},
   "outputs": [
    {
     "data": {
      "text/plain": [
       "0.10908725509464304"
      ]
     },
     "execution_count": 56,
     "metadata": {},
     "output_type": "execute_result"
    }
   ],
   "source": [
    "V_seg_derived_stats['mean_col_vars'].mean()"
   ]
  },
  {
   "cell_type": "code",
   "execution_count": 57,
   "metadata": {},
   "outputs": [
    {
     "data": {
      "text/plain": [
       "0.10821582511130465"
      ]
     },
     "execution_count": 57,
     "metadata": {},
     "output_type": "execute_result"
    }
   ],
   "source": [
    "V_derived_stats['mean_col_vars'].mean()"
   ]
  },
  {
   "cell_type": "markdown",
   "metadata": {},
   "source": [
    "Average variability in column mean has decreased"
   ]
  },
  {
   "cell_type": "code",
   "execution_count": 58,
   "metadata": {},
   "outputs": [
    {
     "data": {
      "text/plain": [
       "0.000349968421370538"
      ]
     },
     "execution_count": 58,
     "metadata": {},
     "output_type": "execute_result"
    }
   ],
   "source": [
    "V_derived_stats['var_col_mu'].mean()"
   ]
  },
  {
   "cell_type": "code",
   "execution_count": 59,
   "metadata": {},
   "outputs": [
    {
     "data": {
      "text/plain": [
       "0.0001858121334250979"
      ]
     },
     "execution_count": 59,
     "metadata": {},
     "output_type": "execute_result"
    }
   ],
   "source": [
    "V_seg_derived_stats['var_col_mu'].mean()"
   ]
  },
  {
   "cell_type": "code",
   "execution_count": 60,
   "metadata": {},
   "outputs": [
    {
     "data": {
      "text/plain": [
       "0.0597827886096954"
      ]
     },
     "execution_count": 60,
     "metadata": {},
     "output_type": "execute_result"
    }
   ],
   "source": [
    "peak_to_peak(V_column_stats)"
   ]
  },
  {
   "cell_type": "code",
   "execution_count": 61,
   "metadata": {},
   "outputs": [
    {
     "data": {
      "text/plain": [
       "0.049775419049497144"
      ]
     },
     "execution_count": 61,
     "metadata": {},
     "output_type": "execute_result"
    }
   ],
   "source": [
    "peak_to_peak(V_seg_col_stats)"
   ]
  },
  {
   "cell_type": "markdown",
   "metadata": {},
   "source": [
    "# 3.0 Privileged Info"
   ]
  },
  {
   "cell_type": "markdown",
   "metadata": {},
   "source": [
    "## 3.1 Descriptive statistics"
   ]
  },
  {
   "cell_type": "code",
   "execution_count": 62,
   "metadata": {},
   "outputs": [],
   "source": [
    "\n",
    "from sklearn.metrics.pairwise import cosine_similarity, euclidean_distances, pairwise_distances\n",
    "\n",
    "def cos_sim(splits, flag='s'):\n",
    "    \"\"\"\n",
    "    cosine distance gives an indication of similarity of annotation vectors for a clip in terms of their angle;\n",
    "    magnitude or absolute size variations are discounted by l2 normalisation\n",
    "    \"\"\"\n",
    "    PI = []\n",
    "    for fid in splits['File_ID']:\n",
    "        tmp = []\n",
    "        if flag=='s':\n",
    "            annotations = splits[splits['File_ID']==fid]['Annotations'].iloc[0]\n",
    "        elif flag=='a':\n",
    "            annotations = splits[splits['File_ID']==fid]['dynamic'].iloc[0]\n",
    "        t_steps = len(annotations[0])\n",
    "        idxs = range(len(annotations))\n",
    "        sidxs = set(idxs)\n",
    "        si=set()\n",
    "        for i in idxs:\n",
    "            si.add(i)\n",
    "            js = sidxs-si\n",
    "            for j in js:\n",
    "                c_s = cosine_similarity(annotations[i].reshape(1, -1), annotations[j].reshape(1, -1))\n",
    "                tmp.append(c_s)\n",
    "        PI.append([fid, np.mean(tmp)])\n",
    "    \n",
    "    return pd.DataFrame(PI, columns=['File_ID', 'cos_sim'])"
   ]
  },
  {
   "cell_type": "code",
   "execution_count": 63,
   "metadata": {},
   "outputs": [],
   "source": [
    "A_cos_sim = cos_sim(A_annotations, flag='a')"
   ]
  },
  {
   "cell_type": "code",
   "execution_count": 64,
   "metadata": {},
   "outputs": [],
   "source": [
    "A_seg_cos_sim = cos_sim(A_splits, flag='s')"
   ]
  },
  {
   "cell_type": "code",
   "execution_count": 65,
   "metadata": {},
   "outputs": [],
   "source": [
    "V_cos_sim = cos_sim(V_annotations, flag='a')"
   ]
  },
  {
   "cell_type": "code",
   "execution_count": 66,
   "metadata": {},
   "outputs": [],
   "source": [
    "V_seg_cos_sim = cos_sim(V_splits, flag='s')"
   ]
  },
  {
   "cell_type": "markdown",
   "metadata": {},
   "source": [
    "Cosine sim approx. 1 for almost all examples; shows that all individual annotator signals follow the same trajectory, not taking into account their differences in magnitude. Not very helpful for privileged info."
   ]
  },
  {
   "cell_type": "code",
   "execution_count": 67,
   "metadata": {},
   "outputs": [],
   "source": [
    "# mean_col_vars seems most suitable contender for x* in LUPI\n",
    "\n",
    "A_PI = A_seg_derived_stats['mean_col_vars']\n",
    "\n",
    "V_PI = V_seg_derived_stats['mean_col_vars']"
   ]
  },
  {
   "cell_type": "code",
   "execution_count": 68,
   "metadata": {},
   "outputs": [],
   "source": [
    "# download whole descriptive stats csvs as PI for further use in Matlab\n",
    "\n",
    "path = \"/Users/jay/Documents/Jay's bits/Uni/Thesis/thesis-pipeline/data/processed/Annotations/Arousal/\"\n",
    "\n",
    "A_seg_derived_stats.to_csv(path+'derived_stats.csv')"
   ]
  },
  {
   "cell_type": "code",
   "execution_count": 69,
   "metadata": {},
   "outputs": [],
   "source": [
    "path = \"/Users/jay/Documents/Jay's bits/Uni/Thesis/thesis-pipeline/data/processed/Annotations/Valence/\"\n",
    "\n",
    "V_seg_derived_stats.to_csv(path+'derived_stats.csv')\n",
    "\n",
    "#V_pa.to_csv(path+'percent_agree.csv')"
   ]
  },
  {
   "cell_type": "markdown",
   "metadata": {},
   "source": [
    "## 3.2 Percent agreement"
   ]
  },
  {
   "cell_type": "code",
   "execution_count": 70,
   "metadata": {},
   "outputs": [],
   "source": [
    "# threshold value for annotations determined from Matlab training partition\n",
    "\n",
    "path = \"/Users/jay/Documents/Jay's bits/Uni/Thesis/thesis-pipeline/data/interim/\"\n",
    "\n",
    "A_thresholds = pd.read_csv(path+'A_thresholds.csv', header=None, names=['run', 'thresh'])"
   ]
  },
  {
   "cell_type": "markdown",
   "metadata": {},
   "source": [
    "Not actually any need to calc for various thresholds of different train set splits; no variation in % agree results"
   ]
  },
  {
   "cell_type": "code",
   "execution_count": 71,
   "metadata": {},
   "outputs": [],
   "source": [
    "def percent_agreement(row_stats, thresh):\n",
    "    ''' \n",
    "    compute pairwise agreement between each respondent then average\n",
    "    '''\n",
    "    PA=[]\n",
    "    for fid in row_stats['File_ID']:\n",
    "        binarised = row_stats[row_stats['File_ID']==fid]['row_means'].iloc[0]>thresh\n",
    "        idxs = range(len(binarised))\n",
    "        sidxs = set(idxs)\n",
    "        si=set()\n",
    "        bools = []\n",
    "        for i in idxs:\n",
    "            si.add(i)\n",
    "            js = sidxs-si\n",
    "            for j in js:\n",
    "                bools.append(binarised[i]==binarised[j])\n",
    "        p_a = sum(bools)/len(bools)\n",
    "        PA.append([fid, p_a])\n",
    "            \n",
    "    return pd.DataFrame(PA, columns=['File_ID', 'percent_agreement'])\n",
    "    "
   ]
  },
  {
   "cell_type": "code",
   "execution_count": 72,
   "metadata": {},
   "outputs": [],
   "source": [
    "# arousal percent agreement\n",
    "\n",
    "A_pa = percent_agreement(A_seg_row_stats, A_thresholds.iloc[1,1])"
   ]
  },
  {
   "cell_type": "code",
   "execution_count": 73,
   "metadata": {},
   "outputs": [],
   "source": [
    "# valence percent agreement\n",
    "# determined value for valence threshold = 0.6003\n",
    "\n",
    "V_pa = percent_agreement(V_seg_row_stats, 0.6003)\n",
    "\n"
   ]
  },
  {
   "cell_type": "markdown",
   "metadata": {},
   "source": [
    "## 3.3 Consensus level"
   ]
  },
  {
   "cell_type": "code",
   "execution_count": 74,
   "metadata": {},
   "outputs": [],
   "source": [
    "def consensus(row_stats, thresh):\n",
    "    ''' calculate number of respondents whose responses constitute y=1\n",
    "    '''\n",
    "    PI=[]\n",
    "    for fid in row_stats['File_ID']:\n",
    "        y_counts = sum(row_stats[row_stats['File_ID']==fid]['row_means'].iloc[0]>thresh)        \n",
    "        PI.append(y_counts)\n",
    "    return pd.DataFrame(PI, columns=['y_count'])"
   ]
  },
  {
   "cell_type": "code",
   "execution_count": 75,
   "metadata": {},
   "outputs": [],
   "source": [
    "A_consensus = consensus(A_seg_row_stats, A_thresholds.iloc[1,1])"
   ]
  },
  {
   "cell_type": "code",
   "execution_count": 76,
   "metadata": {},
   "outputs": [],
   "source": [
    "V_consensus = consensus(V_seg_row_stats, 0.6003)"
   ]
  },
  {
   "cell_type": "markdown",
   "metadata": {},
   "source": [
    "# 4.0 Data Export"
   ]
  },
  {
   "cell_type": "markdown",
   "metadata": {},
   "source": [
    "#### Arousal"
   ]
  },
  {
   "cell_type": "code",
   "execution_count": 77,
   "metadata": {},
   "outputs": [],
   "source": [
    "path = \"/Users/jay/Documents/Jay's bits/Uni/Thesis/thesis-pipeline/data/processed/Annotations/Arousal/\"\n"
   ]
  },
  {
   "cell_type": "code",
   "execution_count": 78,
   "metadata": {},
   "outputs": [],
   "source": [
    "A_consensus.to_csv(path+'A_consensus.csv')"
   ]
  },
  {
   "cell_type": "code",
   "execution_count": 79,
   "metadata": {},
   "outputs": [],
   "source": [
    "A_pa.to_csv(path+'percent_agree.csv')"
   ]
  },
  {
   "cell_type": "code",
   "execution_count": 80,
   "metadata": {},
   "outputs": [],
   "source": [
    "A_splits.to_pickle(path+'Raw_annotations_segmented')\n"
   ]
  },
  {
   "cell_type": "code",
   "execution_count": 81,
   "metadata": {},
   "outputs": [],
   "source": [
    "A_seg_col_stats.to_pickle(path+'column_stats')"
   ]
  },
  {
   "cell_type": "code",
   "execution_count": 82,
   "metadata": {},
   "outputs": [],
   "source": [
    "A_seg_row_stats.to_pickle(path+'row_stats')"
   ]
  },
  {
   "cell_type": "code",
   "execution_count": 83,
   "metadata": {},
   "outputs": [],
   "source": [
    "A_seg_derived_stats.to_pickle(path+'derived_stats')"
   ]
  },
  {
   "cell_type": "code",
   "execution_count": 84,
   "metadata": {},
   "outputs": [],
   "source": [
    "path = \"/Users/jay/Documents/Jay's bits/Uni/Thesis/thesis-pipeline/data/interim/\"\n",
    "\n",
    "A_bkps.to_pickle(path+'Arousal_breaks')\n"
   ]
  },
  {
   "cell_type": "markdown",
   "metadata": {},
   "source": [
    "#### Valence"
   ]
  },
  {
   "cell_type": "code",
   "execution_count": 85,
   "metadata": {},
   "outputs": [],
   "source": [
    "path = \"/Users/jay/Documents/Jay's bits/Uni/Thesis/thesis-pipeline/data/processed/Annotations/Valence/\"\n"
   ]
  },
  {
   "cell_type": "code",
   "execution_count": 86,
   "metadata": {},
   "outputs": [],
   "source": [
    "V_consensus.to_csv(path+'V_consensus.csv')"
   ]
  },
  {
   "cell_type": "code",
   "execution_count": 87,
   "metadata": {},
   "outputs": [],
   "source": [
    "V_pa.to_csv(path+'percent_agree.csv')"
   ]
  },
  {
   "cell_type": "code",
   "execution_count": 88,
   "metadata": {},
   "outputs": [],
   "source": [
    "V_splits.to_pickle(path+'Raw_annotations_segmented')\n"
   ]
  },
  {
   "cell_type": "code",
   "execution_count": 89,
   "metadata": {},
   "outputs": [],
   "source": [
    "V_seg_col_stats.to_pickle(path+'column_stats')"
   ]
  },
  {
   "cell_type": "code",
   "execution_count": 90,
   "metadata": {},
   "outputs": [],
   "source": [
    "V_seg_row_stats.to_pickle(path+'row_stats')"
   ]
  },
  {
   "cell_type": "code",
   "execution_count": 91,
   "metadata": {},
   "outputs": [],
   "source": [
    "V_seg_derived_stats.to_pickle(path+'derived_stats')"
   ]
  },
  {
   "cell_type": "code",
   "execution_count": 92,
   "metadata": {},
   "outputs": [],
   "source": [
    "path = \"/Users/jay/Documents/Jay's bits/Uni/Thesis/thesis-pipeline/data/interim/\"\n",
    "\n",
    "V_bkps.to_pickle(path+'Valence_breaks')\n"
   ]
  }
 ],
 "metadata": {
  "kernelspec": {
   "display_name": "Python 3",
   "language": "python",
   "name": "python3"
  },
  "language_info": {
   "codemirror_mode": {
    "name": "ipython",
    "version": 3
   },
   "file_extension": ".py",
   "mimetype": "text/x-python",
   "name": "python",
   "nbconvert_exporter": "python",
   "pygments_lexer": "ipython3",
   "version": "3.7.3"
  }
 },
 "nbformat": 4,
 "nbformat_minor": 2
}
